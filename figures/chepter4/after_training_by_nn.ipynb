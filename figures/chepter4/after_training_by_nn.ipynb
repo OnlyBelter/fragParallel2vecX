{
 "cells": [
  {
   "cell_type": "code",
   "execution_count": 1,
   "metadata": {},
   "outputs": [],
   "source": [
    "from tensorflow import keras\n",
    "import os\n",
    "import time\n",
    "import numpy as np\n",
    "import pandas as pd"
   ]
  },
  {
   "cell_type": "code",
   "execution_count": 21,
   "metadata": {},
   "outputs": [],
   "source": [
    "SELECTED_MD = ['nN', 'nS', 'nO', 'nX', 'nBondsD', 'nBondsT', 'naRing', 'nARing']\n",
    "current_md = SELECTED_MD[-2]\n",
    "root_dir = '../../big_data/06_train_frag_by_mlp'\n",
    "modle = keras.models.load_model(os.path.join(root_dir, current_md, 'model_reg.h5'))"
   ]
  },
  {
   "cell_type": "code",
   "execution_count": 15,
   "metadata": {},
   "outputs": [
    {
     "name": "stdout",
     "output_type": "stream",
     "text": [
      "Model: \"sequential_5\"\n",
      "_________________________________________________________________\n",
      "Layer (type)                 Output Shape              Param #   \n",
      "=================================================================\n",
      "sequential_3 (Sequential)    (None, 30)                6580      \n",
      "_________________________________________________________________\n",
      "sequential_4 (Sequential)    (None, 1)                 6751      \n",
      "=================================================================\n",
      "Total params: 13,331\n",
      "Trainable params: 13,331\n",
      "Non-trainable params: 0\n",
      "_________________________________________________________________\n"
     ]
    }
   ],
   "source": [
    "modle.summary()"
   ]
  },
  {
   "cell_type": "code",
   "execution_count": 16,
   "metadata": {},
   "outputs": [
    {
     "name": "stdout",
     "output_type": "stream",
     "text": [
      "Model: \"sequential_3\"\n",
      "_________________________________________________________________\n",
      "Layer (type)                 Output Shape              Param #   \n",
      "=================================================================\n",
      "dense_5 (Dense)              (None, 50)                5050      \n",
      "_________________________________________________________________\n",
      "dense_6 (Dense)              (None, 30)                1530      \n",
      "=================================================================\n",
      "Total params: 6,580\n",
      "Trainable params: 6,580\n",
      "Non-trainable params: 0\n",
      "_________________________________________________________________\n"
     ]
    }
   ],
   "source": [
    "modle.layers[0].summary()"
   ]
  },
  {
   "cell_type": "code",
   "execution_count": 17,
   "metadata": {},
   "outputs": [
    {
     "name": "stdout",
     "output_type": "stream",
     "text": [
      "Model: \"sequential_4\"\n",
      "_________________________________________________________________\n",
      "Layer (type)                 Output Shape              Param #   \n",
      "=================================================================\n",
      "dense_7 (Dense)              (None, 50)                1550      \n",
      "_________________________________________________________________\n",
      "dense_8 (Dense)              (None, 100)               5100      \n",
      "_________________________________________________________________\n",
      "dense_9 (Dense)              (None, 1)                 101       \n",
      "=================================================================\n",
      "Total params: 6,751\n",
      "Trainable params: 6,751\n",
      "Non-trainable params: 0\n",
      "_________________________________________________________________\n"
     ]
    }
   ],
   "source": [
    "modle.layers[1].summary()"
   ]
  },
  {
   "cell_type": "code",
   "execution_count": 18,
   "metadata": {},
   "outputs": [
    {
     "name": "stdout",
     "output_type": "stream",
     "text": [
      "Model: \"sequential_3\"\n",
      "_________________________________________________________________\n",
      "Layer (type)                 Output Shape              Param #   \n",
      "=================================================================\n",
      "dense_5 (Dense)              (None, 50)                5050      \n",
      "_________________________________________________________________\n",
      "dense_6 (Dense)              (None, 30)                1530      \n",
      "=================================================================\n",
      "Total params: 6,580\n",
      "Trainable params: 6,580\n",
      "Non-trainable params: 0\n",
      "_________________________________________________________________\n"
     ]
    }
   ],
   "source": [
    "model_part1 = modle.layers[0]\n",
    "model_part1.summary()"
   ]
  },
  {
   "cell_type": "code",
   "execution_count": 22,
   "metadata": {},
   "outputs": [
    {
     "name": "stdout",
     "output_type": "stream",
     "text": [
      "(3056, 100)\n"
     ]
    },
    {
     "data": {
      "text/html": [
       "<div>\n",
       "<style scoped>\n",
       "    .dataframe tbody tr th:only-of-type {\n",
       "        vertical-align: middle;\n",
       "    }\n",
       "\n",
       "    .dataframe tbody tr th {\n",
       "        vertical-align: top;\n",
       "    }\n",
       "\n",
       "    .dataframe thead th {\n",
       "        text-align: right;\n",
       "    }\n",
       "</style>\n",
       "<table border=\"1\" class=\"dataframe\">\n",
       "  <thead>\n",
       "    <tr style=\"text-align: right;\">\n",
       "      <th></th>\n",
       "      <th>0</th>\n",
       "      <th>1</th>\n",
       "      <th>2</th>\n",
       "      <th>3</th>\n",
       "      <th>4</th>\n",
       "      <th>5</th>\n",
       "      <th>6</th>\n",
       "      <th>7</th>\n",
       "      <th>8</th>\n",
       "      <th>9</th>\n",
       "      <th>...</th>\n",
       "      <th>90</th>\n",
       "      <th>91</th>\n",
       "      <th>92</th>\n",
       "      <th>93</th>\n",
       "      <th>94</th>\n",
       "      <th>95</th>\n",
       "      <th>96</th>\n",
       "      <th>97</th>\n",
       "      <th>98</th>\n",
       "      <th>99</th>\n",
       "    </tr>\n",
       "    <tr>\n",
       "      <th>fragment</th>\n",
       "      <th></th>\n",
       "      <th></th>\n",
       "      <th></th>\n",
       "      <th></th>\n",
       "      <th></th>\n",
       "      <th></th>\n",
       "      <th></th>\n",
       "      <th></th>\n",
       "      <th></th>\n",
       "      <th></th>\n",
       "      <th></th>\n",
       "      <th></th>\n",
       "      <th></th>\n",
       "      <th></th>\n",
       "      <th></th>\n",
       "      <th></th>\n",
       "      <th></th>\n",
       "      <th></th>\n",
       "      <th></th>\n",
       "      <th></th>\n",
       "      <th></th>\n",
       "    </tr>\n",
       "  </thead>\n",
       "  <tbody>\n",
       "    <tr>\n",
       "      <th>CC</th>\n",
       "      <td>0.480952</td>\n",
       "      <td>1.488302</td>\n",
       "      <td>1.169265</td>\n",
       "      <td>-0.693389</td>\n",
       "      <td>0.845229</td>\n",
       "      <td>0.412012</td>\n",
       "      <td>0.701256</td>\n",
       "      <td>-0.133183</td>\n",
       "      <td>-0.165926</td>\n",
       "      <td>0.094339</td>\n",
       "      <td>...</td>\n",
       "      <td>-0.254592</td>\n",
       "      <td>0.315663</td>\n",
       "      <td>0.580485</td>\n",
       "      <td>0.000645</td>\n",
       "      <td>0.073145</td>\n",
       "      <td>-0.317370</td>\n",
       "      <td>0.069709</td>\n",
       "      <td>-0.774675</td>\n",
       "      <td>-0.081370</td>\n",
       "      <td>-0.185646</td>\n",
       "    </tr>\n",
       "    <tr>\n",
       "      <th>C</th>\n",
       "      <td>0.401933</td>\n",
       "      <td>1.147575</td>\n",
       "      <td>0.894457</td>\n",
       "      <td>-0.527708</td>\n",
       "      <td>0.685741</td>\n",
       "      <td>0.312301</td>\n",
       "      <td>0.526161</td>\n",
       "      <td>-0.104037</td>\n",
       "      <td>-0.141404</td>\n",
       "      <td>0.061230</td>\n",
       "      <td>...</td>\n",
       "      <td>-0.228260</td>\n",
       "      <td>0.337185</td>\n",
       "      <td>0.565867</td>\n",
       "      <td>-0.044333</td>\n",
       "      <td>0.091869</td>\n",
       "      <td>-0.290008</td>\n",
       "      <td>0.081442</td>\n",
       "      <td>-0.748831</td>\n",
       "      <td>-0.105687</td>\n",
       "      <td>-0.158385</td>\n",
       "    </tr>\n",
       "  </tbody>\n",
       "</table>\n",
       "<p>2 rows × 100 columns</p>\n",
       "</div>"
      ],
      "text/plain": [
       "                 0         1         2         3         4         5  \\\n",
       "fragment                                                               \n",
       "CC        0.480952  1.488302  1.169265 -0.693389  0.845229  0.412012   \n",
       "C         0.401933  1.147575  0.894457 -0.527708  0.685741  0.312301   \n",
       "\n",
       "                 6         7         8         9  ...        90        91  \\\n",
       "fragment                                          ...                       \n",
       "CC        0.701256 -0.133183 -0.165926  0.094339  ... -0.254592  0.315663   \n",
       "C         0.526161 -0.104037 -0.141404  0.061230  ... -0.228260  0.337185   \n",
       "\n",
       "                92        93        94        95        96        97  \\\n",
       "fragment                                                               \n",
       "CC        0.580485  0.000645  0.073145 -0.317370  0.069709 -0.774675   \n",
       "C         0.565867 -0.044333  0.091869 -0.290008  0.081442 -0.748831   \n",
       "\n",
       "                98        99  \n",
       "fragment                      \n",
       "CC       -0.081370 -0.185646  \n",
       "C        -0.105687 -0.158385  \n",
       "\n",
       "[2 rows x 100 columns]"
      ]
     },
     "execution_count": 22,
     "metadata": {},
     "output_type": "execute_result"
    }
   ],
   "source": [
    "frag2vec = pd.read_csv('../../big_data/05_model_Tandem2vec/frag_id2vec_minn_1_maxn_2.csv', index_col=0)\n",
    "print(frag2vec.shape)\n",
    "frag2vec.head(2)"
   ]
  },
  {
   "cell_type": "code",
   "execution_count": 23,
   "metadata": {},
   "outputs": [
    {
     "name": "stdout",
     "output_type": "stream",
     "text": [
      "(3056, 30)\n"
     ]
    },
    {
     "data": {
      "text/html": [
       "<div>\n",
       "<style scoped>\n",
       "    .dataframe tbody tr th:only-of-type {\n",
       "        vertical-align: middle;\n",
       "    }\n",
       "\n",
       "    .dataframe tbody tr th {\n",
       "        vertical-align: top;\n",
       "    }\n",
       "\n",
       "    .dataframe thead th {\n",
       "        text-align: right;\n",
       "    }\n",
       "</style>\n",
       "<table border=\"1\" class=\"dataframe\">\n",
       "  <thead>\n",
       "    <tr style=\"text-align: right;\">\n",
       "      <th></th>\n",
       "      <th>0</th>\n",
       "      <th>1</th>\n",
       "      <th>2</th>\n",
       "      <th>3</th>\n",
       "      <th>4</th>\n",
       "      <th>5</th>\n",
       "      <th>6</th>\n",
       "      <th>7</th>\n",
       "      <th>8</th>\n",
       "      <th>9</th>\n",
       "      <th>...</th>\n",
       "      <th>20</th>\n",
       "      <th>21</th>\n",
       "      <th>22</th>\n",
       "      <th>23</th>\n",
       "      <th>24</th>\n",
       "      <th>25</th>\n",
       "      <th>26</th>\n",
       "      <th>27</th>\n",
       "      <th>28</th>\n",
       "      <th>29</th>\n",
       "    </tr>\n",
       "    <tr>\n",
       "      <th>fragment</th>\n",
       "      <th></th>\n",
       "      <th></th>\n",
       "      <th></th>\n",
       "      <th></th>\n",
       "      <th></th>\n",
       "      <th></th>\n",
       "      <th></th>\n",
       "      <th></th>\n",
       "      <th></th>\n",
       "      <th></th>\n",
       "      <th></th>\n",
       "      <th></th>\n",
       "      <th></th>\n",
       "      <th></th>\n",
       "      <th></th>\n",
       "      <th></th>\n",
       "      <th></th>\n",
       "      <th></th>\n",
       "      <th></th>\n",
       "      <th></th>\n",
       "      <th></th>\n",
       "    </tr>\n",
       "  </thead>\n",
       "  <tbody>\n",
       "    <tr>\n",
       "      <th>CC</th>\n",
       "      <td>-0.499221</td>\n",
       "      <td>1.704293</td>\n",
       "      <td>-0.984274</td>\n",
       "      <td>-0.460745</td>\n",
       "      <td>2.252523</td>\n",
       "      <td>1.074023</td>\n",
       "      <td>0.771564</td>\n",
       "      <td>0.583000</td>\n",
       "      <td>-0.749358</td>\n",
       "      <td>-0.698653</td>\n",
       "      <td>...</td>\n",
       "      <td>0.012482</td>\n",
       "      <td>0.372856</td>\n",
       "      <td>0.189407</td>\n",
       "      <td>-1.332082</td>\n",
       "      <td>0.630799</td>\n",
       "      <td>-0.453832</td>\n",
       "      <td>0.470348</td>\n",
       "      <td>1.826416</td>\n",
       "      <td>1.063546</td>\n",
       "      <td>-1.083139</td>\n",
       "    </tr>\n",
       "    <tr>\n",
       "      <th>C</th>\n",
       "      <td>-0.645578</td>\n",
       "      <td>1.749931</td>\n",
       "      <td>-0.738718</td>\n",
       "      <td>-0.608472</td>\n",
       "      <td>2.009878</td>\n",
       "      <td>0.696499</td>\n",
       "      <td>0.491875</td>\n",
       "      <td>0.779052</td>\n",
       "      <td>-0.743805</td>\n",
       "      <td>-0.801279</td>\n",
       "      <td>...</td>\n",
       "      <td>-0.116596</td>\n",
       "      <td>0.205797</td>\n",
       "      <td>-0.042871</td>\n",
       "      <td>-0.766325</td>\n",
       "      <td>0.867417</td>\n",
       "      <td>-0.516506</td>\n",
       "      <td>0.391960</td>\n",
       "      <td>1.602449</td>\n",
       "      <td>0.543228</td>\n",
       "      <td>-1.228505</td>\n",
       "    </tr>\n",
       "  </tbody>\n",
       "</table>\n",
       "<p>2 rows × 30 columns</p>\n",
       "</div>"
      ],
      "text/plain": [
       "                0         1         2         3         4         5   \\\n",
       "fragment                                                               \n",
       "CC       -0.499221  1.704293 -0.984274 -0.460745  2.252523  1.074023   \n",
       "C        -0.645578  1.749931 -0.738718 -0.608472  2.009878  0.696499   \n",
       "\n",
       "                6         7         8         9   ...        20        21  \\\n",
       "fragment                                          ...                       \n",
       "CC        0.771564  0.583000 -0.749358 -0.698653  ...  0.012482  0.372856   \n",
       "C         0.491875  0.779052 -0.743805 -0.801279  ... -0.116596  0.205797   \n",
       "\n",
       "                22        23        24        25        26        27  \\\n",
       "fragment                                                               \n",
       "CC        0.189407 -1.332082  0.630799 -0.453832  0.470348  1.826416   \n",
       "C        -0.042871 -0.766325  0.867417 -0.516506  0.391960  1.602449   \n",
       "\n",
       "                28        29  \n",
       "fragment                      \n",
       "CC        1.063546 -1.083139  \n",
       "C         0.543228 -1.228505  \n",
       "\n",
       "[2 rows x 30 columns]"
      ]
     },
     "execution_count": 23,
     "metadata": {},
     "output_type": "execute_result"
    }
   ],
   "source": [
    "frag2vec_30d = pd.DataFrame(data=model_part1.predict(frag2vec), index=frag2vec.index)\n",
    "print(frag2vec_30d.shape)\n",
    "frag2vec_30d.head(2)"
   ]
  },
  {
   "cell_type": "code",
   "execution_count": 24,
   "metadata": {},
   "outputs": [],
   "source": [
    "frag2vec_30d.to_csv(os.path.join(root_dir, current_md, 'frag2vec_new_30d.csv'))"
   ]
  },
  {
   "cell_type": "code",
   "execution_count": null,
   "metadata": {},
   "outputs": [],
   "source": []
  }
 ],
 "metadata": {
  "kernelspec": {
   "display_name": "Python 3",
   "language": "python",
   "name": "python3"
  },
  "language_info": {
   "codemirror_mode": {
    "name": "ipython",
    "version": 3
   },
   "file_extension": ".py",
   "mimetype": "text/x-python",
   "name": "python",
   "nbconvert_exporter": "python",
   "pygments_lexer": "ipython3",
   "version": "3.6.10"
  }
 },
 "nbformat": 4,
 "nbformat_minor": 4
}
